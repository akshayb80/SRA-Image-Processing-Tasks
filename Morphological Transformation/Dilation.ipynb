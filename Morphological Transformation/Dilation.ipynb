{
 "cells": [
  {
   "cell_type": "code",
   "execution_count": 1,
   "metadata": {},
   "outputs": [],
   "source": [
    "from PIL import Image\n",
    "import numpy as np\n",
    "\n",
    "def rgb2gray(rgb):\n",
    "    r, g, b = rgb[:,:,0], rgb[:,:,1], rgb[:,:,2]\n",
    "    gray = 0.2989 * r + 0.5870 * g + 0.1140 * b\n",
    "    return gray\n",
    "\n",
    "def gray2binary(gray):\n",
    "    return (127 < gray) & (gray <= 255)\n",
    "\n",
    "def dilation(image, kernel):\n",
    "    output = np.zeros_like(image)\n",
    "    image_padded = np.zeros((image.shape[0]+kernel.shape[0]-1,image.shape[1] + kernel.shape[1]-1))\n",
    "    image_padded[kernel.shape[0]-2:-1:,kernel.shape[1]-2:-1:] = image\n",
    "    for x in range(image.shape[1]):\n",
    "        for y in range(image.shape[0]):\n",
    "            summation=(kernel * image_padded[y: y+kernel.shape[0], x: x+kernel.shape[1]]).sum()\n",
    "            if summation>0:\n",
    "                output[y,x]=1\n",
    "            else :\n",
    "                output[y,x]=0\n",
    "    return output\n",
    "            \n",
    "\n",
    "structuring_element=np.array([[0, 1, 0],\n",
    "                              [1, 1, 1],\n",
    "                              [0, 1, 0]])\n",
    "\n",
    "\n",
    "file_name=\"morphological.png\"\n",
    "im = gray2binary(rgb2gray(np.array(Image.open(file_name))))\n",
    "im=dilation(im,structuring_element)\n",
    "pil_img=Image.fromarray(im).convert('RGB')\n",
    "pil_img.save('result_dilation.png')"
   ]
  },
  {
   "cell_type": "code",
   "execution_count": null,
   "metadata": {},
   "outputs": [],
   "source": []
  }
 ],
 "metadata": {
  "kernelspec": {
   "display_name": "Python 3",
   "language": "python",
   "name": "python3"
  },
  "language_info": {
   "codemirror_mode": {
    "name": "ipython",
    "version": 3
   },
   "file_extension": ".py",
   "mimetype": "text/x-python",
   "name": "python",
   "nbconvert_exporter": "python",
   "pygments_lexer": "ipython3",
   "version": "3.7.4"
  }
 },
 "nbformat": 4,
 "nbformat_minor": 2
}
