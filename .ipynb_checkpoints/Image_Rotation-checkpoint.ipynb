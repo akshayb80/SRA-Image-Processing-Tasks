{
 "cells": [
  {
   "cell_type": "code",
   "execution_count": null,
   "metadata": {},
   "outputs": [],
   "source": [
    "import numpy as np\n",
    "import matplotlib.pyplot as plt\n",
    "\n",
    "# For point (x,y) and image size h=Image_Hieght-1 and w=Image_Width-1, the pivot is changed to be at the center (x,y) -> (x-w/2,y-h/2).\n",
    "def moveBy90(height, width, i, j):\n",
    "    iNew = -j + width - 1\n",
    "    jNew = i\n",
    "    return int(iNew), int(jNew)\n",
    "\n",
    "def moveBy180(height, width, i, j):\n",
    "    iNew = -j + width - 1\n",
    "    jNew = -i + height - 1\n",
    "    return int(iNew), int(jNew)\n",
    "\n",
    "image1 = plt.imread('rotate.png')\n",
    "print(image1.shape)\n",
    "image2 = np.zeros([image1.shape[1], image1.shape[0], image1.shape[2]], dtype=image1.dtype)\n",
    "for c in range(4):\n",
    "    for i in range(image1.shape[0]-1):\n",
    "        for j in range(image1.shape[1]-1):\n",
    "            newPoint = moveBy180(image1.shape[0], image1.shape[1], i, j)\n",
    "            try:\n",
    "                image2[newPoint[0], newPoint[1], c]=image1[i,j,c]\n",
    "            except IndexError as error:\n",
    "                print(error)\n",
    "\n",
    "plt.subplot(1, 2, 1)\n",
    "plt.imshow(image1)\n",
    "\n",
    "plt.subplot(1, 2, 2)\n",
    "plt.imshow(image2)\n",
    "plt.show()"
   ]
  },
  {
   "cell_type": "code",
   "execution_count": null,
   "metadata": {},
   "outputs": [],
   "source": []
  }
 ],
 "metadata": {
  "kernelspec": {
   "display_name": "Python 3",
   "language": "python",
   "name": "python3"
  },
  "language_info": {
   "codemirror_mode": {
    "name": "ipython",
    "version": 3
   },
   "file_extension": ".py",
   "mimetype": "text/x-python",
   "name": "python",
   "nbconvert_exporter": "python",
   "pygments_lexer": "ipython3",
   "version": "3.7.4"
  }
 },
 "nbformat": 4,
 "nbformat_minor": 2
}
