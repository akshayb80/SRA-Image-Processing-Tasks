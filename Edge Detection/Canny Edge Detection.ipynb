{
 "cells": [
  {
   "cell_type": "code",
   "execution_count": 7,
   "metadata": {},
   "outputs": [],
   "source": [
    "from PIL import Image\n",
    "import numpy as np"
   ]
  },
  {
   "cell_type": "markdown",
   "metadata": {},
   "source": [
    "### Gradient Calculation & Non Maximum Supression"
   ]
  },
  {
   "cell_type": "code",
   "execution_count": 15,
   "metadata": {},
   "outputs": [],
   "source": [
    "def rgbtogray(rgb):\n",
    "    r, g, b = rgb[:,:,0], rgb[:,:,1], rgb[:,:,2]\n",
    "    gray = 0.2989 * r + 0.5870 * g + 0.1140 * b\n",
    "    return gray\n",
    "\n",
    "def convolve_grayscale(image, kernel):\n",
    "    output = np.zeros_like(image)\n",
    "    image_padded = np.zeros((image.shape[0]+kernel.shape[0]-1,image.shape[1] + kernel.shape[1]-1))\n",
    "    image_padded[kernel.shape[0]-2:-1:,kernel.shape[1]-2:-1:] = image\n",
    "    image_padded[0,0]=image[0,0]\n",
    "    image_padded[-1,-1]=image[-1,-1]\n",
    "    for x in range(image.shape[1]):\n",
    "        for y in range(image.shape[0]):\n",
    "            output[y,x]=(kernel * image_padded[y: y+kernel.shape[0], x: x+kernel.shape[1]]).sum()\n",
    "    return output\n",
    "\n",
    "def non_max_suppression(img,D):\n",
    "    M, N = img.shape\n",
    "    Z = np.zeros((M,N), dtype=np.int32)\n",
    "    angle = D * 180. / np.pi\n",
    "    angle[angle < 0] += 180\n",
    "    \n",
    "    for i in range(1,M-1):\n",
    "        for j in range(1,N-1):\n",
    "            try:\n",
    "                q = 255\n",
    "                r = 255\n",
    "                \n",
    "               #angle 0\n",
    "                if (0 <= angle[i,j] < 22.5) or (157.5 <= angle[i,j] <= 180):\n",
    "                    q = img[i, j+1]\n",
    "                    r = img[i, j-1]\n",
    "                #angle 45\n",
    "                elif (22.5 <= angle[i,j] < 67.5):\n",
    "                    q = img[i+1, j-1]\n",
    "                    r = img[i-1, j+1]\n",
    "                #angle 90\n",
    "                elif (67.5 <= angle[i,j] < 112.5):\n",
    "                    q = img[i+1, j]\n",
    "                    r = img[i-1, j]\n",
    "                #angle 135\n",
    "                elif (112.5 <= angle[i,j] < 157.5):\n",
    "                    q = img[i-1, j-1]\n",
    "                    r = img[i+1, j+1]\n",
    "\n",
    "                if (img[i,j] >= q) and (img[i,j] >= r):\n",
    "                    Z[i,j] = img[i,j]\n",
    "                else:\n",
    "                    Z[i,j] = 0\n",
    "\n",
    "            except IndexError as e:\n",
    "                pass\n",
    "    \n",
    "    return Z"
   ]
  },
  {
   "cell_type": "markdown",
   "metadata": {},
   "source": [
    "### Double Threshold"
   ]
  },
  {
   "cell_type": "code",
   "execution_count": 16,
   "metadata": {},
   "outputs": [],
   "source": [
    "def threshold(img, weak,strong,lowThresholdRatio=0.05, highThresholdRatio=0.09):\n",
    "    \n",
    "    highThreshold = img.max() * highThresholdRatio\n",
    "    lowThreshold = highThreshold * lowThresholdRatio\n",
    "    \n",
    "    M, N = img.shape\n",
    "    res = np.zeros((M,N), dtype=np.int32)\n",
    "    \n",
    "    weak = np.int32(weak)\n",
    "    strong = np.int32(strong)\n",
    "    \n",
    "    strong_i, strong_j = np.where(img >= highThreshold)\n",
    "    zeros_i, zeros_j = np.where(img < lowThreshold)\n",
    "    \n",
    "    weak_i, weak_j = np.where((img <= highThreshold) & (img >= lowThreshold))\n",
    "    \n",
    "    res[strong_i, strong_j] = strong\n",
    "    res[weak_i, weak_j] = weak\n",
    "    \n",
    "    return res"
   ]
  },
  {
   "cell_type": "markdown",
   "metadata": {},
   "source": [
    "### Edge Tracking by Hysteresis"
   ]
  },
  {
   "cell_type": "code",
   "execution_count": 17,
   "metadata": {},
   "outputs": [],
   "source": [
    "def hysteresis(img, weak, strong):\n",
    "    M, N = img.shape  \n",
    "    for i in range(1, M-1):\n",
    "        for j in range(1, N-1):\n",
    "            if (img[i,j] == weak):\n",
    "                try:\n",
    "                    if ((img[i+1, j-1] == strong) or (img[i+1, j] == strong) or (img[i+1, j+1] == strong)\n",
    "                        or (img[i, j-1] == strong) or (img[i, j+1] == strong)\n",
    "                        or (img[i-1, j-1] == strong) or (img[i-1, j] == strong) or (img[i-1, j+1] == strong)):\n",
    "                        img[i, j] = strong\n",
    "                    else:\n",
    "                        img[i, j] = 0\n",
    "                except IndexError as e:\n",
    "                    pass\n",
    "    return img"
   ]
  },
  {
   "cell_type": "code",
   "execution_count": 20,
   "metadata": {},
   "outputs": [],
   "source": [
    "gaussian_blur=np.array([[1,  4,  6,  4, 1],\n",
    "                         [4, 16, 24, 16, 4],\n",
    "                         [6, 24, 36, 24, 6],\n",
    "                         [4, 16, 24, 16, 4],\n",
    "                         [1,  4,  6,  4, 1]])/256\n",
    "\n",
    "x_direction_kernel=np.array([[-1,0,1],\n",
    "                             [-2,0,2],\n",
    "                             [-1,0,1]],np.float32)\n",
    "\n",
    "y_direction_kernel=np.array([[-1,-2,-1],\n",
    "                             [ 0, 0, 0],\n",
    "                             [ 1, 2, 1]],np.float32)\n",
    "\n",
    "img = rgbtogray(np.array(Image.open('Dog.png')))\n",
    "\n",
    "# Noise Reduction using Gaussian Blur\n",
    "img = convolve_grayscale(img, gaussian_blur)\n",
    "\n",
    "# Gradient Calculation using Sobel Filters\n",
    "x_intensity = convolve_grayscale(img,x_direction_kernel)  #intensity along x axis\n",
    "y_intensity = convolve_grayscale(img,y_direction_kernel)  #intensity along y axis\n",
    "im = np.hypot(x_intensity, y_intensity)                     #finding the sum of intensities\n",
    "im = im / im.max() * 255                                  \n",
    "theta = np.arctan2(y_intensity,x_intensity)\n",
    "\n",
    "# non maximum suppression\n",
    "img = non_max_suppression(img, theta)\n",
    "\n",
    "# double threshold\n",
    "weak = 75\n",
    "strong = 255\n",
    "img = threshold(img, weak, strong, 0.05, 0.15)\n",
    "\n",
    "# Applying Hysteresis\n",
    "img = hysteresis(img, val1, val2)\n",
    "\n",
    "image = Image.fromarray(img).convert('RGB')\n",
    "image.save('canny_image.jpg')"
   ]
  },
  {
   "cell_type": "code",
   "execution_count": null,
   "metadata": {},
   "outputs": [],
   "source": []
  }
 ],
 "metadata": {
  "kernelspec": {
   "display_name": "Python 3",
   "language": "python",
   "name": "python3"
  },
  "language_info": {
   "codemirror_mode": {
    "name": "ipython",
    "version": 3
   },
   "file_extension": ".py",
   "mimetype": "text/x-python",
   "name": "python",
   "nbconvert_exporter": "python",
   "pygments_lexer": "ipython3",
   "version": "3.7.4"
  }
 },
 "nbformat": 4,
 "nbformat_minor": 2
}
