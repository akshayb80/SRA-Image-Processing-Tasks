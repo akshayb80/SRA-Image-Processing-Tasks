{
 "cells": [
  {
   "cell_type": "code",
   "execution_count": 1,
   "metadata": {},
   "outputs": [],
   "source": [
    "from PIL import Image\n",
    "import numpy as np"
   ]
  },
  {
   "cell_type": "code",
   "execution_count": 17,
   "metadata": {},
   "outputs": [],
   "source": [
    "def convolve(image, kernel):\n",
    "    padded_image = np.zeros((image.shape[0]+2, image.shape[1]+2, image.shape[2]))\n",
    "    padded_image[1:-1:,1:-1:,:] = image\n",
    "    output = np.zeros_like(image)\n",
    "    \n",
    "    for x in range(image.shape[1]):\n",
    "        for y in range(image.shape[0]):\n",
    "            for z in range(image.shape[2]):\n",
    "                output[y, x,z]=(kernel * padded_image[y: y+3, x: x+3,z]).sum()\n",
    "    return output\n"
   ]
  },
  {
   "cell_type": "code",
   "execution_count": 22,
   "metadata": {},
   "outputs": [],
   "source": [
    "Sharpen = np.array([[0, -1, 0],\n",
    "                    [-1, 5, -1],\n",
    "                    [0, -1, 0]])\n",
    "Blur = np.array([[0.0625, 0.125, 0.0625],\n",
    "                [0.125, 0.25, 0.125],\n",
    "                [0.0625, 0.125, 0.0625]])\n",
    "box_blur = np.array([[0.1111, 0.1111, 0.1111],\n",
    "                     [0.1111, 0.1111, 0.1111],\n",
    "                     [0.1111, 0.1111, 0.1111]])\n",
    "gaussian_blur = np.array([[0.0625, 0.125, 0.0625],\n",
    "                          [0.125, 0.25, 0.125],\n",
    "                          [0.0625, 0.125, 0.0625]])\n",
    "\n",
    "img = np.array(Image.open('img2.png'))\n",
    "image = Image.fromarray(convolve(img,gaussian_blur))\n",
    "image.save('gaussian_blur_img.png')\n"
   ]
  },
  {
   "cell_type": "code",
   "execution_count": null,
   "metadata": {},
   "outputs": [],
   "source": []
  },
  {
   "cell_type": "code",
   "execution_count": null,
   "metadata": {},
   "outputs": [],
   "source": []
  }
 ],
 "metadata": {
  "kernelspec": {
   "display_name": "Python 3",
   "language": "python",
   "name": "python3"
  },
  "language_info": {
   "codemirror_mode": {
    "name": "ipython",
    "version": 3
   },
   "file_extension": ".py",
   "mimetype": "text/x-python",
   "name": "python",
   "nbconvert_exporter": "python",
   "pygments_lexer": "ipython3",
   "version": "3.7.4"
  }
 },
 "nbformat": 4,
 "nbformat_minor": 2
}
