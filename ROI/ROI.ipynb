{
 "cells": [
  {
   "cell_type": "code",
   "execution_count": 1,
   "metadata": {},
   "outputs": [],
   "source": [
    "from PIL import Image\n",
    "import numpy as np\n",
    "\n",
    "def create_circular_mask(h, w, center=[964,1110], radius=80):\n",
    "    Y, X = np.ogrid[:h, :w]\n",
    "    dist_from_center = np.sqrt((Y - center[0])**2 + (X-center[1])**2)\n",
    "    mask = dist_from_center <= radius\n",
    "    return mask\n",
    "\n",
    "def convolve3d(image, kernel):\n",
    "    output = np.zeros_like(image)\n",
    "    image_padded = np.zeros((image.shape[0]+kernel.shape[0]-1,image.shape[1] + kernel.shape[1]-1,image.shape[2]))\n",
    "    image_padded[kernel.shape[0]-2:-1:,kernel.shape[1]-2:-1:,:] = image\n",
    "    image_padded[0,0,:]=image[0,0,:]\n",
    "    image_padded[-1,-1,:]=image[-1,-1,:]\n",
    "    for x in range(image.shape[1]):\n",
    "        for y in range(image.shape[0]):\n",
    "            for z in range(image.shape[2]):\n",
    "                summation=(kernel * image_padded[y: y+kernel.shape[0], x: x+kernel.shape[1],z]).sum()\n",
    "                output[y, x,z]=summation\n",
    "    if image.shape[2]==4:\n",
    "        output[:,:,3]=image[:,:,3]\n",
    "    return output\n",
    "\n",
    "gaussian_blurr=np.array([[1,  4,  6,  4, 1],\n",
    "                         [4, 16, 24, 16, 4],\n",
    "                         [6, 24, 36, 24, 6],\n",
    "                         [4, 16, 24, 16, 4],\n",
    "                         [1,  4,  6,  4, 1]])/256\n",
    "\n",
    "file_name=\"roi.jpg\"\n",
    "file_name1=\"logo.png\"\n",
    "\n",
    "im = np.array(Image.open(file_name))\n",
    "im=convolve3d(im,gaussian_blurr)\n",
    "mask=create_circular_mask(im.shape[0],im.shape[1])\n",
    "masked=im.copy()\n",
    "masked[~mask]=0\n",
    "row_shift=-25\n",
    "column_shift=-670\n",
    "for i in range(im.shape[0]):\n",
    "    for j in range(im.shape[1]):\n",
    "        if  masked[i,j,:].all() !=0:\n",
    "            masked[i+row_shift,j+column_shift,:]=masked[i,j,:]\n",
    "            masked[i,j,:]=0\n",
    "            im[i+row_shift,j+column_shift,:]=0\n",
    "\n",
    "im=np.bitwise_or(im,masked)\n",
    "pil_img=Image.fromarray(im.astype(np.uint8))\n",
    "pil_img.save('moved.jpeg')"
   ]
  },
  {
   "cell_type": "code",
   "execution_count": null,
   "metadata": {},
   "outputs": [],
   "source": []
  }
 ],
 "metadata": {
  "kernelspec": {
   "display_name": "Python 3",
   "language": "python",
   "name": "python3"
  },
  "language_info": {
   "codemirror_mode": {
    "name": "ipython",
    "version": 3
   },
   "file_extension": ".py",
   "mimetype": "text/x-python",
   "name": "python",
   "nbconvert_exporter": "python",
   "pygments_lexer": "ipython3",
   "version": "3.7.4"
  }
 },
 "nbformat": 4,
 "nbformat_minor": 2
}
